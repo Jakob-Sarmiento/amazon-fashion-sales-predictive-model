{
  "nbformat": 4,
  "nbformat_minor": 0,
  "metadata": {
    "colab": {
      "provenance": []
    },
    "kernelspec": {
      "name": "python3",
      "display_name": "Python 3"
    },
    "language_info": {
      "name": "python"
    }
  },
  "cells": [
    {
      "cell_type": "code",
      "execution_count": 2,
      "metadata": {
        "colab": {
          "base_uri": "https://localhost:8080/",
          "height": 558
        },
        "id": "KPKJV2UNJCe4",
        "outputId": "926aa86d-11e4-4c34-ab4e-cab46b2ecf6a"
      },
      "outputs": [
        {
          "output_type": "stream",
          "name": "stdout",
          "text": [
            "{'rows_before': 13156, 'dups_before': 1787, 'missing_before': 1078, 'rows_after': 11369, 'dups_after': 0, 'missing_after': 0, 'columns': ['product_id', 'brand', 'title', 'price', 'category', 'rating', 'image_url', 'product_url']}\n",
            "\n",
            "Preview:\n",
            "   product_id         brand  \\\n",
            "0  B08YRWN3WB      JANSPORT   \n",
            "1  B08YRXFZZM      JANSPORT   \n",
            "2  B09Q2PQ7ZB       BAODINI   \n",
            "3  B001BEAWXY  Calvin Klein   \n",
            "4  B09FM5PMN3      JANSPORT   \n",
            "\n",
            "                                               title   price    category  \\\n",
            "0  Big Student Large laptop backpack Black EK0A5B...  189.00  New season   \n",
            "1                                Superbreak Day Pack  119.00  New season   \n",
            "2  Mini Travel Umbrella With Case Small Compact U...   17.79  New season   \n",
            "3           Men's Cotton Classics 3-Pack Boxer Brief  119.00  New season   \n",
            "4                           Unisex Kids Bag Backpack  179.00  New season   \n",
            "\n",
            "   rating                                          image_url  \\\n",
            "0     4.7  https://m.media-amazon.com/images/I/51y2EF0OmO...   \n",
            "1     4.6  https://m.media-amazon.com/images/I/51yvvQUs3S...   \n",
            "2     4.2  https://m.media-amazon.com/images/I/71WbrZPbnG...   \n",
            "3     4.2  https://m.media-amazon.com/images/I/716vzeqa7Z...   \n",
            "4     4.4  https://m.media-amazon.com/images/I/51XASBuqjr...   \n",
            "\n",
            "                           product_url  \n",
            "0  https://www.amazon.ae/dp/B08YRWN3WB  \n",
            "1  https://www.amazon.ae/dp/B08YRXFZZM  \n",
            "2  https://www.amazon.ae/dp/B09Q2PQ7ZB  \n",
            "3  https://www.amazon.ae/dp/B001BEAWXY  \n",
            "4  https://www.amazon.ae/dp/B09FM5PMN3  \n"
          ]
        },
        {
          "output_type": "display_data",
          "data": {
            "text/plain": [
              "<IPython.core.display.Javascript object>"
            ],
            "application/javascript": [
              "\n",
              "    async function download(id, filename, size) {\n",
              "      if (!google.colab.kernel.accessAllowed) {\n",
              "        return;\n",
              "      }\n",
              "      const div = document.createElement('div');\n",
              "      const label = document.createElement('label');\n",
              "      label.textContent = `Downloading \"${filename}\": `;\n",
              "      div.appendChild(label);\n",
              "      const progress = document.createElement('progress');\n",
              "      progress.max = size;\n",
              "      div.appendChild(progress);\n",
              "      document.body.appendChild(div);\n",
              "\n",
              "      const buffers = [];\n",
              "      let downloaded = 0;\n",
              "\n",
              "      const channel = await google.colab.kernel.comms.open(id);\n",
              "      // Send a message to notify the kernel that we're ready.\n",
              "      channel.send({})\n",
              "\n",
              "      for await (const message of channel.messages) {\n",
              "        // Send a message to notify the kernel that we're ready.\n",
              "        channel.send({})\n",
              "        if (message.buffers) {\n",
              "          for (const buffer of message.buffers) {\n",
              "            buffers.push(buffer);\n",
              "            downloaded += buffer.byteLength;\n",
              "            progress.value = downloaded;\n",
              "          }\n",
              "        }\n",
              "      }\n",
              "      const blob = new Blob(buffers, {type: 'application/binary'});\n",
              "      const a = document.createElement('a');\n",
              "      a.href = window.URL.createObjectURL(blob);\n",
              "      a.download = filename;\n",
              "      div.appendChild(a);\n",
              "      a.click();\n",
              "      div.remove();\n",
              "    }\n",
              "  "
            ]
          },
          "metadata": {}
        },
        {
          "output_type": "display_data",
          "data": {
            "text/plain": [
              "<IPython.core.display.Javascript object>"
            ],
            "application/javascript": [
              "download(\"download_4d74802e-ab4c-4485-92a2-876b19208ddc\", \"products_clean.csv\", 2405500)"
            ]
          },
          "metadata": {}
        }
      ],
      "source": [
        "import pandas as pd\n",
        "import numpy as np\n",
        "\n",
        "def clean_products(\n",
        "    df: pd.DataFrame,\n",
        "    fill_zero_cols: list[str] | None = None,\n",
        "    duplicate_subset: list[str] | None = None,\n",
        "    numeric_cols: list[str] = [\"price\", \"rating\"]\n",
        "\n",
        ") -> tuple[pd.DataFrame, dict]:\n",
        "    \"\"\"Return a cleaned copy of df + a short summary dict.\"\"\"\n",
        "    report = {\n",
        "        \"rows_before\": len(df),\n",
        "        \"dups_before\": int(df.duplicated(subset=duplicate_subset).sum()),\n",
        "        \"missing_before\": int(df.isna().sum().sum()),\n",
        "    }\n",
        "    out = df.copy()\n",
        "\n",
        "#1 format each column\n",
        "    out.columns = (\n",
        "        out.columns\n",
        "          .str.strip()\n",
        "          .str.lower()\n",
        "          .str.replace(\" \", \"_\", regex=False)\n",
        "    )\n",
        "\n",
        "#2) trim white space, and fill empty cells as \"nan\"\n",
        "    obj_cols = out.select_dtypes(include=[\"object\"]).columns\n",
        "    for c in obj_cols:\n",
        "        out[c] = out[c].astype(str).str.strip()\n",
        "    out.replace({\"\": np.nan, \"nan\": np.nan, \"None\": np.nan}, inplace=True)\n",
        "\n",
        "#3) fill nan cells with \"0\"\n",
        "    if fill_zero_cols is None:\n",
        "        out = out.fillna(0)\n",
        "    else:\n",
        "        out[fill_zero_cols] = out[fill_zero_cols].fillna(0)\n",
        "\n",
        "#4) drop all column duplicates\n",
        "    out = out.drop_duplicates(subset=duplicate_subset, keep=\"first\")\n",
        "\n",
        "#5) ensure that each rating point is between the range 0-5, because that is the scale that is used\n",
        "    if \"price\" in out.columns:\n",
        "        out = out[out[\"price\"] >= 0]\n",
        "    if \"rating\" in out.columns:\n",
        "        out[\"rating\"] = out[\"rating\"].clip(0, 5)\n",
        "\n",
        "    report.update({\n",
        "        \"rows_after\": len(out),\n",
        "        \"dups_after\": int(out.duplicated(subset=duplicate_subset).sum()),\n",
        "        \"missing_after\": int(out.isna().sum().sum()),\n",
        "        \"columns\": out.columns.tolist(),\n",
        "    })\n",
        "\n",
        "    return out, report\n",
        "\n",
        "# save new cleaned file\n",
        "df = pd.read_csv(\"products.csv\")\n",
        "df_clean, summary = clean_products(df, duplicate_subset=[\"product_id\"])\n",
        "df_clean.to_csv(\"products_clean.csv\", index=False)\n",
        "\n",
        "print(summary)\n",
        "print(\"\\nPreview:\")\n",
        "print(df_clean.head())\n",
        "\n",
        "from google.colab import files\n",
        "files.download('products_clean.csv')\n"
      ]
    }
  ]
}